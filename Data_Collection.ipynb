{
 "cells": [
  {
   "cell_type": "code",
   "execution_count": 1,
   "id": "1ee96437-482c-44da-be00-4d8bc927c739",
   "metadata": {},
   "outputs": [
    {
     "name": "stderr",
     "output_type": "stream",
     "text": [
      "Exception in thread Thread-5 (receive_data):\n",
      "Traceback (most recent call last):\n",
      "  File \"c:\\Users\\Parth Magdum\\AppData\\Local\\Programs\\Python\\Python311\\Lib\\threading.py\", line 1038, in _bootstrap_inner\n",
      "    self.run()\n",
      "  File \"C:\\Users\\Parth Magdum\\AppData\\Roaming\\Python\\Python311\\site-packages\\ipykernel\\ipkernel.py\", line 761, in run_closure\n",
      "    _threading_Thread_run(self)\n",
      "  File \"c:\\Users\\Parth Magdum\\AppData\\Local\\Programs\\Python\\Python311\\Lib\\threading.py\", line 975, in run\n",
      "    self._target(*self._args, **self._kwargs)\n",
      "  File \"C:\\Users\\Parth Magdum\\AppData\\Local\\Temp\\ipykernel_18848\\1941039422.py\", line 13, in receive_data\n",
      "  File \"c:\\Users\\Parth Magdum\\AppData\\Local\\Programs\\Python\\Python311\\Lib\\site-packages\\serial\\serialwin32.py\", line 285, in read\n",
      "    ctypes.byref(self._overlapped_read))\n",
      "    ^^^^^^^^^^^^^^^^^^^^^^^^^^^^^^^^^^^\n",
      "TypeError: byref() argument must be a ctypes instance, not 'NoneType'\n"
     ]
    },
    {
     "name": "stdout",
     "output_type": "stream",
     "text": [
      "Closing serial port due to inactivity.\n"
     ]
    }
   ],
   "source": [
    "import serial\n",
    "import threading\n",
    "import time\n",
    "\n",
    "accelerometer = []\n",
    "gyroscope = []\n",
    "# Define the timeout duration\n",
    "SERIAL_TIMEOUT = 4  # in seconds\n",
    "\n",
    "# Function to handle data reception\n",
    "def receive_data(ser):\n",
    "    while True:\n",
    "        line = ser.readline().decode('utf-8').strip()\n",
    "        if line:\n",
    "            # print(line)  # Print the received data\n",
    "            data_str = line\n",
    "            # Split the data string into two parts using \"||\" as the separator\n",
    "            data_parts = data_str.split(\" || \")\n",
    "            # len(data_parts)\n",
    "            # Iterate over the data parts and parse each set of values\n",
    "            # for data_part in data_parts:\n",
    "            values = data_parts[0].split(\",\")  # Split each set of values by \",\"\n",
    "            # print(len(values))\n",
    "            values = [ (val[0]=='-')*(float(val[1:])*(-1)) + (val[0]!='-')*(float(val)) for val in values]  # Convert values to integers\n",
    "            accelerometer.append(values)  # Append the first set of values to accelerometer\n",
    "\n",
    "            values = data_parts[1].split(\",\")  # Split each set of values by \",\"\n",
    "            values = [ (val[0]=='-')*(float(val[1:])*(-1)) + (val[0]!='-')*(float(val)) for val in values]  # Convert values to integers\n",
    "            gyroscope.append(values)  # Append the second set of values to gyroscope\n",
    "        else:\n",
    "            # Reset the timer if data is received\n",
    "            # print(len(gyroscope))\n",
    "            global last_received\n",
    "            last_received = time.time()\n",
    "\n",
    "# Function to close the serial port after a timeout\n",
    "def check_idle(ser):\n",
    "    while True:\n",
    "        time.sleep(1)  # Check every second\n",
    "        if time.time() - last_received > SERIAL_TIMEOUT:\n",
    "            print(\"Closing serial port due to inactivity.\")\n",
    "            final_data = accelerometer + gyroscope\n",
    "            ser.close()\n",
    "            break\n",
    "\n",
    "# Main function\n",
    "def main():\n",
    "    ser = serial.Serial('COM7', 9600)  # Adjust the port name and baud rate\n",
    "    ser.timeout = SERIAL_TIMEOUT  # Set the serial timeout\n",
    "\n",
    "    global last_received\n",
    "    last_received = time.time()  # Initialize the last received time\n",
    "\n",
    "    # Start the data reception thread\n",
    "    data_thread = threading.Thread(target=receive_data, args=(ser,), daemon=True)\n",
    "    data_thread.start()\n",
    "\n",
    "    # Start the timer thread to check for inactivity\n",
    "    timer_thread = threading.Thread(target=check_idle, args=(ser,), daemon=True)\n",
    "    timer_thread.start()\n",
    "\n",
    "    # Keep the main thread alive\n",
    "    # while True:\n",
    "    #     pass\n",
    "\n",
    "if __name__ == \"__main__\":\n",
    "    main()\n"
   ]
  },
  {
   "cell_type": "code",
   "execution_count": 2,
   "id": "236c6183",
   "metadata": {},
   "outputs": [
    {
     "data": {
      "text/plain": [
       "46"
      ]
     },
     "execution_count": 2,
     "metadata": {},
     "output_type": "execute_result"
    }
   ],
   "source": [
    "len(accelerometer)"
   ]
  },
  {
   "cell_type": "code",
   "execution_count": 3,
   "id": "a93e6d8b-32f0-439f-a79e-1616f0deecac",
   "metadata": {},
   "outputs": [
    {
     "name": "stdout",
     "output_type": "stream",
     "text": [
      "Data exported to letter_data.csv\n"
     ]
    }
   ],
   "source": [
    "import csv\n",
    "import os\n",
    "import numpy as np\n",
    "\n",
    "filename = 'letter_data.csv'\n",
    "label = 'J' #give label for which you are writing here\n",
    "file_exists = os.path.exists(filename)\n",
    "\n",
    "with open(filename, 'a', newline='') as csvfile:\n",
    "    csvwriter = csv.writer(csvfile)\n",
    "    csvwriter.writerow([label, accelerometer, gyroscope])\n",
    "\n",
    "print(\"Data exported to\", filename)\n"
   ]
  },
  {
   "cell_type": "code",
   "execution_count": 4,
   "id": "2730d1eb-3480-4862-9b56-f5762f02e2d4",
   "metadata": {},
   "outputs": [
    {
     "data": {
      "text/plain": [
       "30"
      ]
     },
     "execution_count": 4,
     "metadata": {},
     "output_type": "execute_result"
    }
   ],
   "source": [
    "import pandas as pd\n",
    "import ast\n",
    "\n",
    "df = pd.read_csv('letter_data.csv')\n",
    "df[\"Accelerometer\"] = df[\"Accelerometer\"].apply(lambda x: ast.literal_eval(x)).tolist()\n",
    "df[\"Gyroscope\"] = df[\"Gyroscope\"].apply(lambda x: ast.literal_eval(x)).tolist()\n",
    "n = len(df)\n",
    "sum(df['Label']=='J')"
   ]
  },
  {
   "cell_type": "code",
   "execution_count": 5,
   "id": "b7f2344a",
   "metadata": {},
   "outputs": [
    {
     "data": {
      "text/html": [
       "<div>\n",
       "<style scoped>\n",
       "    .dataframe tbody tr th:only-of-type {\n",
       "        vertical-align: middle;\n",
       "    }\n",
       "\n",
       "    .dataframe tbody tr th {\n",
       "        vertical-align: top;\n",
       "    }\n",
       "\n",
       "    .dataframe thead th {\n",
       "        text-align: right;\n",
       "    }\n",
       "</style>\n",
       "<table border=\"1\" class=\"dataframe\">\n",
       "  <thead>\n",
       "    <tr style=\"text-align: right;\">\n",
       "      <th></th>\n",
       "      <th>Label</th>\n",
       "      <th>Accelerometer</th>\n",
       "      <th>Gyroscope</th>\n",
       "    </tr>\n",
       "  </thead>\n",
       "  <tbody>\n",
       "    <tr>\n",
       "      <th>887</th>\n",
       "      <td>J</td>\n",
       "      <td>[[-0.34, -0.36, 0.42], [-0.76, -0.04, 1.19], [...</td>\n",
       "      <td>[[79.28, -403.56, 88.93], [69.64, -461.61, 123...</td>\n",
       "    </tr>\n",
       "    <tr>\n",
       "      <th>888</th>\n",
       "      <td>J</td>\n",
       "      <td>[[0.03, 0.1, 0.18], [-0.52, -0.57, 0.51], [-1....</td>\n",
       "      <td>[[244.75, -319.89, 97.35], [252.14, -502.56, 1...</td>\n",
       "    </tr>\n",
       "    <tr>\n",
       "      <th>889</th>\n",
       "      <td>J</td>\n",
       "      <td>[[-0.02, 0.39, 0.28], [-0.52, -0.05, 0.6], [-0...</td>\n",
       "      <td>[[253.11, -327.7, 105.47], [115.6, -488.71, 12...</td>\n",
       "    </tr>\n",
       "    <tr>\n",
       "      <th>890</th>\n",
       "      <td>J</td>\n",
       "      <td>[[-0.15, 0.38, 0.53], [-0.4, 0.08, 0.56], [-0....</td>\n",
       "      <td>[[48.16, -312.99, 69.58], [131.9, -466.86, 133...</td>\n",
       "    </tr>\n",
       "    <tr>\n",
       "      <th>891</th>\n",
       "      <td>J</td>\n",
       "      <td>[[-0.19, -0.04, 0.4], [-0.71, -0.07, 1.22], [-...</td>\n",
       "      <td>[[152.34, -453.0, 108.58], [103.7, -381.16, 75...</td>\n",
       "    </tr>\n",
       "  </tbody>\n",
       "</table>\n",
       "</div>"
      ],
      "text/plain": [
       "    Label                                      Accelerometer  \\\n",
       "887     J  [[-0.34, -0.36, 0.42], [-0.76, -0.04, 1.19], [...   \n",
       "888     J  [[0.03, 0.1, 0.18], [-0.52, -0.57, 0.51], [-1....   \n",
       "889     J  [[-0.02, 0.39, 0.28], [-0.52, -0.05, 0.6], [-0...   \n",
       "890     J  [[-0.15, 0.38, 0.53], [-0.4, 0.08, 0.56], [-0....   \n",
       "891     J  [[-0.19, -0.04, 0.4], [-0.71, -0.07, 1.22], [-...   \n",
       "\n",
       "                                             Gyroscope  \n",
       "887  [[79.28, -403.56, 88.93], [69.64, -461.61, 123...  \n",
       "888  [[244.75, -319.89, 97.35], [252.14, -502.56, 1...  \n",
       "889  [[253.11, -327.7, 105.47], [115.6, -488.71, 12...  \n",
       "890  [[48.16, -312.99, 69.58], [131.9, -466.86, 133...  \n",
       "891  [[152.34, -453.0, 108.58], [103.7, -381.16, 75...  "
      ]
     },
     "execution_count": 5,
     "metadata": {},
     "output_type": "execute_result"
    }
   ],
   "source": [
    "df.tail()"
   ]
  },
  {
   "cell_type": "code",
   "execution_count": null,
   "id": "53650c77",
   "metadata": {},
   "outputs": [],
   "source": []
  },
  {
   "cell_type": "code",
   "execution_count": null,
   "id": "34b72ea7",
   "metadata": {},
   "outputs": [],
   "source": []
  },
  {
   "cell_type": "code",
   "execution_count": null,
   "id": "942e52b2",
   "metadata": {},
   "outputs": [],
   "source": []
  },
  {
   "cell_type": "code",
   "execution_count": null,
   "id": "ac854301",
   "metadata": {},
   "outputs": [],
   "source": []
  },
  {
   "cell_type": "code",
   "execution_count": null,
   "id": "852fbf84",
   "metadata": {},
   "outputs": [],
   "source": []
  },
  {
   "cell_type": "code",
   "execution_count": null,
   "id": "8dc7ee8e",
   "metadata": {},
   "outputs": [],
   "source": []
  },
  {
   "cell_type": "code",
   "execution_count": 205,
   "id": "2778f42b",
   "metadata": {},
   "outputs": [],
   "source": [
    "df_safe = df"
   ]
  },
  {
   "cell_type": "code",
   "execution_count": null,
   "id": "40a65bbd",
   "metadata": {},
   "outputs": [],
   "source": []
  },
  {
   "cell_type": "code",
   "execution_count": null,
   "id": "ce8f870e",
   "metadata": {},
   "outputs": [],
   "source": []
  }
 ],
 "metadata": {
  "kernelspec": {
   "display_name": "Python 3 (ipykernel)",
   "language": "python",
   "name": "python3"
  },
  "language_info": {
   "codemirror_mode": {
    "name": "ipython",
    "version": 3
   },
   "file_extension": ".py",
   "mimetype": "text/x-python",
   "name": "python",
   "nbconvert_exporter": "python",
   "pygments_lexer": "ipython3",
   "version": "3.11.5"
  }
 },
 "nbformat": 4,
 "nbformat_minor": 5
}
